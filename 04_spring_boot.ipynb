{
 "cells": [
  {
   "cell_type": "markdown",
   "metadata": {},
   "source": [
    "# Spring Boot."
   ]
  },
  {
   "cell_type": "markdown",
   "metadata": {},
   "source": [
    "## *Spring Framework*.\n",
    "\n",
    "*Spring Framework* o *Spring* es un marco de trabajo de código abierto enfocado al desarrollo de aplicaciones empresariales basado en *Java*. La versión más reciente de este framework es *Spring 5*.\n",
    "\n",
    "La arquitecture de *Spring* se basa en la [Inversión de Control](https://en.wikipedia.org/wiki/Inversion_of_control) y la [Inyección de dependencias](https://en.wikipedia.org/wiki/Dependency_injection), de tal modo que es posible crear aplicaciones muy complejas declarando sus componentes.\n",
    "\n",
    "A lo largo del tiempo, *Spring* ha desarrollado diversos [proyectos](https://spring.io/projects) alrededor del su [framework principal](https://spring.io/projects/spring-framework), siendo algunos de ellos:\n",
    "\n",
    "* [*Spring Cloud*](https://spring.io/projects/spring-cloud).\n",
    "* [*Spring Boot*](https://spring.io/projects/spring-boot).\n",
    "* [*Spring Data*](https://spring.io/projects/spring-data).\n",
    "* [*Spring Security*](https://spring.io/projects/spring-security).\n",
    "* [*Spring Intergation*](https://spring.io/projects/spring-integration).\n",
    "* [*Spring Batch*](https://spring.io/projects/spring-batch).\n",
    "* [*Spring Mobile*](https://spring.io/projects/spring-mobile).\n",
    "* [*Spring for Android*](https://spring.io/projects/spring-android).\n",
    "* [*Spring AMQP*](https://spring.io/projects/spring-amqp)."
   ]
  },
  {
   "cell_type": "markdown",
   "metadata": {},
   "source": [
    "## *Spring Boot.*\n",
    "\n",
    "[*Spring Boot*](https://spring.io/projects/spring-boot) es una herramienta que forma parte de [*Spring Framework*](https://spring.io), la cual permite desarrollar y desplegar aplicaciones web de forma rápida y con muy pocas configuraciones.\n",
    "\n",
    "* Es compatible con [*Apache Maven*](https://maven.apache.org/) y [*Gradle*](https://gradle.org/).\n",
    "* Permite utilizar código escrito en *Java*, [*Groovy*](https://groovy-lang.org/) y [*Kotlin*](https://kotlinlang.org/).\n",
    "* Cuenta con todo el stack de *Spring* para desarrollo de aplicaciones web.\n",
    "* Cuenta con una interfaz de línea de comandos (CLI).\n",
    "* Permite crear plantillas de proyectos de forma automatizada.\n"
   ]
  },
  {
   "cell_type": "markdown",
   "metadata": {},
   "source": [
    "<img src=\"img/03/spring-diagrama.png\" width=\"600px\"/>"
   ]
  },
  {
   "cell_type": "markdown",
   "metadata": {},
   "source": [
    "La documentación de referencia de Spring Boot puede ser consultada desde:\n",
    "https://docs.spring.io/spring-boot/docs/2.1.12.RELEASE/reference/html/"
   ]
  },
  {
   "cell_type": "markdown",
   "metadata": {},
   "source": [
    "## La *CLI* de *Spring Boot*.\n",
    "\n",
    "*Spring Boot* permite ejecutar aplicaciones de forma rápida directamente desde una terminal.\n",
    "\n",
    "La referencia de la *CLI* puede ser consultada desde:\n",
    "\n",
    "https://docs.spring.io/spring-boot/docs/current/reference/html/spring-boot-cli.html"
   ]
  },
  {
   "cell_type": "markdown",
   "metadata": {},
   "source": [
    "### Instalación y configuraciónde la *CLI*.\n",
    "\n",
    "* A continuación se descargará, instala'ra y configurará la *CLI* de *Spring Boot*."
   ]
  },
  {
   "cell_type": "code",
   "execution_count": null,
   "metadata": {},
   "outputs": [],
   "source": [
    "sudo apt update -y && sudo apt upgrade -y\n",
    "sudo apt install ant ant-optional antlr groovy ivy junit4 openjdk-11-jdk -y"
   ]
  },
  {
   "cell_type": "code",
   "execution_count": null,
   "metadata": {},
   "outputs": [],
   "source": [
    "wget https://repo.spring.io/release/org/springframework/boot/spring-boot-cli/2.6.2/spring-boot-cli-2.6.2-bin.tar.gz"
   ]
  },
  {
   "cell_type": "code",
   "execution_count": null,
   "metadata": {
    "scrolled": true
   },
   "outputs": [],
   "source": [
    "tar xvfz spring-boot-cli-2.6.2-bin.tar.gz -C ~/"
   ]
  },
  {
   "cell_type": "code",
   "execution_count": null,
   "metadata": {},
   "outputs": [],
   "source": [
    "mv ~/spring-2.6.2 ~/spring"
   ]
  },
  {
   "cell_type": "code",
   "execution_count": null,
   "metadata": {},
   "outputs": [],
   "source": [
    "chmod -R +rw ~/spring"
   ]
  },
  {
   "cell_type": "code",
   "execution_count": null,
   "metadata": {},
   "outputs": [],
   "source": [
    "export PATH=$PATH:~/spring/bin"
   ]
  },
  {
   "cell_type": "code",
   "execution_count": null,
   "metadata": {},
   "outputs": [],
   "source": [
    "spring --version"
   ]
  },
  {
   "cell_type": "markdown",
   "metadata": {},
   "source": [
    "### El \"*Hola, Mundo*\" desde la *CLI* de *Spring Boot*.\n",
    "\n",
    "El archivo [src/04/hola_mundo/hola.groovy](src/04/hola_mundo/hola.groovy\") contiene el siguiente código, el cual desplegará un mensaje simple desde un servicio web de *Spring Boot*:\n",
    "\n",
    "\n",
    "``` groovy\n",
    "@Controller\n",
    "class Ejemplo {\n",
    "   @RequestMapping(\"/\")\n",
    "   @ResponseBody\n",
    "   public String hola() {\n",
    "      \"Hola, Mundo\"\n",
    "   }\n",
    "}\n",
    "```\n",
    "\n"
   ]
  },
  {
   "cell_type": "markdown",
   "metadata": {},
   "source": [
    "* La siguiente celda despelgará un servicio web en http://localhost:8080 a partir del archivo previo."
   ]
  },
  {
   "cell_type": "code",
   "execution_count": null,
   "metadata": {},
   "outputs": [],
   "source": [
    "spring run src/04/hola_mundo/hola.groovy"
   ]
  },
  {
   "cell_type": "markdown",
   "metadata": {},
   "source": [
    "### *Spring Initializr*.\n",
    "\n",
    "Para facilitar el desarrollo de plantillas para el desarrollo de aplicaciones a la medida de forma ágil, está disponible el servico en línea llamado *Spring Initializr*, mediante el cual es posible crear una estructura de archivos compatibles con *Apache Maven* y *Gradle* que incluyen los componentes y dependencias de un proyecto específico.\n",
    "\n",
    "El servicio se encuentra en https://start.spring.io/\n",
    "\n",
    "Al final se podrá descargar un archivo comprimido que contiene lo necesario para comenzar a desarrolla una aplicación."
   ]
  },
  {
   "cell_type": "markdown",
   "metadata": {},
   "source": [
    "<p style=\"text-align: center\"><a rel=\"license\" href=\"http://creativecommons.org/licenses/by/4.0/\"><img alt=\"Licencia Creative Commons\" style=\"border-width:0\" src=\"https://i.creativecommons.org/l/by/4.0/80x15.png\" /></a><br />Esta obra está bajo una <a rel=\"license\" href=\"http://creativecommons.org/licenses/by/4.0/\">Licencia Creative Commons Atribución 4.0 Internacional</a>.</p>\n",
    "<p style=\"text-align: center\">&copy; José Luis Chiquete Valdivieso. 2022.</p>"
   ]
  }
 ],
 "metadata": {
  "kernelspec": {
   "display_name": "Bash",
   "language": "bash",
   "name": "bash"
  },
  "language_info": {
   "codemirror_mode": "shell",
   "file_extension": ".sh",
   "mimetype": "text/x-sh",
   "name": "bash"
  }
 },
 "nbformat": 4,
 "nbformat_minor": 2
}
