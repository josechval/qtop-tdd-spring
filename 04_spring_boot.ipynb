{
 "cells": [
  {
   "cell_type": "markdown",
   "metadata": {},
   "source": [
    "# Spring Boot."
   ]
  },
  {
   "cell_type": "markdown",
   "metadata": {},
   "source": [
    "## *Spring Framework*.\n",
    "\n",
    "*Spring Framework* o *Spring* es un marco de trabajo de código abierto enfocado al desarrollo de aplicaciones empresariales basado en *Java*. La versión más reciente de este framework es *Spring 5*.\n",
    "\n",
    "La arquitecture de *Spring* se basa en la [inversión de control](https://en.wikipedia.org/wiki/Inversion_of_control) y la [inyección de dependencias](https://en.wikipedia.org/wiki/Dependency_injection), de tal modo que es posible crear aplicaciones muy complejas declarando sus componentes.\n",
    "\n",
    "A lo largo del tiempo, *Spring* ha desarrollado diversos [proyectos](https://spring.io/projects) alrededor del su [framework principal](https://spring.io/projects/spring-framework), siendo algunos de ellos:\n",
    "\n",
    "* [*Spring Cloud*](https://spring.io/projects/spring-cloud).\n",
    "* [*Spring Boot*](https://spring.io/projects/spring-boot).\n",
    "* [*Spring Data*](https://spring.io/projects/spring-data).\n",
    "* [*Spring Security*](https://spring.io/projects/spring-security).\n",
    "* [*Spring Integration*](https://spring.io/projects/spring-integration).\n",
    "* [*Spring Batch*](https://spring.io/projects/spring-batch).\n",
    "* [*Spring AMQP*](https://spring.io/projects/spring-amqp)."
   ]
  },
  {
   "cell_type": "markdown",
   "metadata": {},
   "source": [
    "## *Spring Boot.*\n",
    "\n",
    "[*Spring Boot*](https://spring.io/projects/spring-boot) es una herramienta que forma parte de [*Spring Framework*](https://spring.io), la cual permite desarrollar y desplegar aplicaciones web de forma rápida y con muy pocas configuraciones.\n",
    "\n",
    "* Es compatible con [*Apache Maven*](https://maven.apache.org/) y [*Gradle*](https://gradle.org/).\n",
    "* Permite utilizar código escrito en *Java*, [*Groovy*](https://groovy-lang.org/) y [*Kotlin*](https://kotlinlang.org/).\n",
    "* Cuenta con todo el stack de *Spring* para desarrollo de aplicaciones web.\n",
    "* Cuenta con una interfaz de línea de comandos (CLI).\n",
    "* Permite crear plantillas de proyectos de forma automatizada.\n"
   ]
  },
  {
   "cell_type": "markdown",
   "metadata": {},
   "source": [
    "<img src=\"img/03/spring-diagrama.png\" width=\"600px\"/>"
   ]
  },
  {
   "cell_type": "markdown",
   "metadata": {},
   "source": [
    "La documentación de referencia de Spring Boot puede ser consultada desde:\n",
    "https://docs.spring.io/spring-boot/docs/2.3.12.RELEASE/reference/html/"
   ]
  },
  {
   "cell_type": "markdown",
   "metadata": {},
   "source": [
    "## La *CLI* de *Spring Boot*.\n",
    "\n",
    "*Spring Boot* permite ejecutar aplicaciones de forma rápida directamente desde una terminal.\n",
    "\n",
    "La referencia de la *CLI* puede ser consultada desde:\n",
    "\n",
    "https://docs.spring.io/spring-boot/docs/current/reference/html/spring-boot-cli.html"
   ]
  },
  {
   "cell_type": "markdown",
   "metadata": {},
   "source": [
    "### Instalación y configuraciónde la *CLI*.\n",
    "\n",
    "* A continuación se descargará, instala'ra y configurará la *CLI* de *Spring Boot*."
   ]
  },
  {
   "cell_type": "code",
   "execution_count": 1,
   "metadata": {},
   "outputs": [
    {
     "name": "stdout",
     "output_type": "stream",
     "text": [
      "Get:1 http://security.debian.org/debian-security bullseye-security InRelease [44.1 kB]\n",
      "Hit:2 http://deb.debian.org/debian bullseye InRelease\u001b[0m\n",
      "Get:3 http://deb.debian.org/debian bullseye-updates InRelease [39.4 kB]\n",
      "Get:4 http://security.debian.org/debian-security bullseye-security/main Sources [98.6 kB]\n",
      "Get:5 http://security.debian.org/debian-security bullseye-security/main amd64 Packages [119 kB]\n",
      "Get:6 http://security.debian.org/debian-security bullseye-security/main Translation-en [76.8 kB]\n",
      "Fetched 378 kB in 1s (543 kB/s) \u001b[0m\u001b[33m \u001b[0m\u001b[33m              \u001b[0m\u001b[33m\n",
      "Reading package lists... Done\n",
      "Building dependency tree... Done\n",
      "Reading state information... Done\n",
      "3 packages can be upgraded. Run 'apt list --upgradable' to see them.\n",
      "Reading package lists... Done\n",
      "Building dependency tree... Done\n",
      "Reading state information... Done\n",
      "Calculating upgrade... Done\n",
      "The following packages will be upgraded:\n",
      "  firefox-esr libcryptsetup12 libexpat1\n",
      "3 upgraded, 0 newly installed, 0 to remove and 0 not upgraded.\n",
      "Need to get 59.1 MB of archives.\n",
      "After this operation, 46.1 kB disk space will be freed.\n",
      "Get:1 http://security.debian.org/debian-security bullseye-security/main amd64 firefox-esr amd64 91.6.0esr-1~deb11u1 [58.7 MB]\n",
      "Get:2 http://security.debian.org/debian-security bullseye-security/main amd64 libcryptsetup12 amd64 2:2.3.7-1+deb11u1 [248 kB]\n",
      "Get:3 http://security.debian.org/debian-security bullseye-security/main amd64 libexpat1 amd64 2.2.10-2+deb11u1 [97.4 kB]\n",
      "Fetched 59.1 MB in 5s (11.0 MB/s)[0m\u001b[33m\n",
      "apt-listchanges: Reading changelogs...\n",
      "debconf: unable to initialize frontend: Dialog\n",
      "debconf: (Dialog frontend will not work on a dumb terminal, an emacs shell buffer, or without a controlling terminal.)\n",
      "debconf: falling back to frontend: Readline\n",
      "\n",
      "(Reading database ... 60829 files and directories currently installed.)\n",
      "Preparing to unpack .../firefox-esr_91.6.0esr-1~deb11u1_amd64.deb ...\n",
      "\u001b7\u001b[24;0f\u001b[42m\u001b[30mProgress: [  0%]\u001b[49m\u001b[39m [..........................................................] \u001b8\u001b7\u001b[24;0f\u001b[42m\u001b[30mProgress: [  8%]\u001b[49m\u001b[39m [####......................................................] \u001b8Leaving 'diversion of /usr/bin/firefox to /usr/bin/firefox.real by firefox-esr'\n",
      "Unpacking firefox-esr (91.6.0esr-1~deb11u1) over (91.5.0esr-1~deb11u1) ...\n",
      "\u001b7\u001b[24;0f\u001b[42m\u001b[30mProgress: [ 15%]\u001b[49m\u001b[39m [########..................................................] \u001b8Preparing to unpack .../libcryptsetup12_2%3a2.3.7-1+deb11u1_amd64.deb ...\n",
      "\u001b7\u001b[24;0f\u001b[42m\u001b[30mProgress: [ 23%]\u001b[49m\u001b[39m [#############.............................................] \u001b8Unpacking libcryptsetup12:amd64 (2:2.3.7-1+deb11u1) over (2:2.3.5-1) ...\n",
      "\u001b7\u001b[24;0f\u001b[42m\u001b[30mProgress: [ 31%]\u001b[49m\u001b[39m [#################.........................................] \u001b8Preparing to unpack .../libexpat1_2.2.10-2+deb11u1_amd64.deb ...\n",
      "\u001b7\u001b[24;0f\u001b[42m\u001b[30mProgress: [ 38%]\u001b[49m\u001b[39m [######################....................................] \u001b8Unpacking libexpat1:amd64 (2.2.10-2+deb11u1) over (2.2.10-2) ...\n",
      "\u001b7\u001b[24;0f\u001b[42m\u001b[30mProgress: [ 46%]\u001b[49m\u001b[39m [##########################................................] \u001b8Setting up libexpat1:amd64 (2.2.10-2+deb11u1) ...\n",
      "\u001b7\u001b[24;0f\u001b[42m\u001b[30mProgress: [ 54%]\u001b[49m\u001b[39m [###############################...........................] \u001b8\u001b7\u001b[24;0f\u001b[42m\u001b[30mProgress: [ 62%]\u001b[49m\u001b[39m [###################################.......................] \u001b8Setting up libcryptsetup12:amd64 (2:2.3.7-1+deb11u1) ...\n",
      "\u001b7\u001b[24;0f\u001b[42m\u001b[30mProgress: [ 69%]\u001b[49m\u001b[39m [########################################..................] \u001b8\u001b7\u001b[24;0f\u001b[42m\u001b[30mProgress: [ 77%]\u001b[49m\u001b[39m [############################################..............] \u001b8Setting up firefox-esr (91.6.0esr-1~deb11u1) ...\n",
      "\u001b7\u001b[24;0f\u001b[42m\u001b[30mProgress: [ 85%]\u001b[49m\u001b[39m [#################################################.........] \u001b8\u001b7\u001b[24;0f\u001b[42m\u001b[30mProgress: [ 92%]\u001b[49m\u001b[39m [#####################################################.....] \u001b8Processing triggers for libc-bin (2.31-13+deb11u2) ...\n",
      "Processing triggers for man-db (2.9.4-2) ...\n",
      "Processing triggers for mailcap (3.69) ...\n",
      "Processing triggers for hicolor-icon-theme (0.17-2) ...\n",
      "\n",
      "\u001b7\u001b[0;24r\u001b8\u001b[1A\u001b[Jdebconf: unable to initialize frontend: Dialog\n",
      "debconf: (Dialog frontend will not work on a dumb terminal, an emacs shell buffer, or without a controlling terminal.)\n",
      "debconf: falling back to frontend: Readline\n",
      "Scanning processes...                                                           \n",
      "Scanning candidates...                                                          \n",
      "Scanning linux images...                                                        \n",
      "\n",
      "Running kernel seems to be up-to-date.\n",
      "\n",
      "Restarting services...\n",
      "Daemons using outdated libraries\n",
      "--------------------------------\n",
      "\n",
      "\n",
      "  1. apache2.service  3. jupyter.service  5. none of the above\n",
      "  2. dbus.service     4. xvfb.service\n",
      "\n",
      "(Enter the items or ranges you want to select, separated by spaces.)\n",
      "\n",
      "Which services should be restarted? \n"
     ]
    }
   ],
   "source": [
    "sudo apt update -y && sudo apt upgrade -y\n",
    "sudo apt install ant ant-optional antlr groovy ivy junit4 openjdk-11-jdk-headless -y"
   ]
  },
  {
   "cell_type": "code",
   "execution_count": 2,
   "metadata": {},
   "outputs": [
    {
     "name": "stdout",
     "output_type": "stream",
     "text": [
      "--2022-02-17 19:18:26--  https://repo.spring.io/release/org/springframework/boot/spring-boot-cli/2.6.2/spring-boot-cli-2.6.2-bin.tar.gz\n",
      "Resolving repo.spring.io (repo.spring.io)... 35.243.130.159\n",
      "Connecting to repo.spring.io (repo.spring.io)|35.243.130.159|:443... connected.\n",
      "HTTP request sent, awaiting response... 200 OK\n",
      "Length: 14292649 (14M) [application/x-gzip]\n",
      "Saving to: ‘spring-boot-cli-2.6.2-bin.tar.gz’\n",
      "\n",
      "spring-boot-cli-2.6 100%[===================>]  13.63M  6.46MB/s    in 2.1s    \n",
      "\n",
      "2022-02-17 19:18:29 (6.46 MB/s) - ‘spring-boot-cli-2.6.2-bin.tar.gz’ saved [14292649/14292649]\n",
      "\n"
     ]
    }
   ],
   "source": [
    "wget https://repo.spring.io/release/org/springframework/boot/spring-boot-cli/2.6.2/spring-boot-cli-2.6.2-bin.tar.gz"
   ]
  },
  {
   "cell_type": "code",
   "execution_count": 3,
   "metadata": {
    "scrolled": true
   },
   "outputs": [
    {
     "name": "stdout",
     "output_type": "stream",
     "text": [
      "spring-2.6.2/\n",
      "spring-2.6.2/lib/\n",
      "spring-2.6.2/lib/spring-boot-cli-2.6.2.jar\n",
      "spring-2.6.2/shell-completion/\n",
      "spring-2.6.2/shell-completion/bash/\n",
      "spring-2.6.2/shell-completion/bash/spring\n",
      "spring-2.6.2/shell-completion/zsh/\n",
      "spring-2.6.2/shell-completion/zsh/_spring\n",
      "spring-2.6.2/legal/\n",
      "spring-2.6.2/legal/open_source_licenses.txt\n",
      "spring-2.6.2/bin/\n",
      "spring-2.6.2/bin/spring.bat\n",
      "spring-2.6.2/LICENCE.txt\n",
      "spring-2.6.2/INSTALL.txt\n",
      "spring-2.6.2/bin/spring\n"
     ]
    }
   ],
   "source": [
    "tar xvfz spring-boot-cli-2.6.2-bin.tar.gz -C ~/"
   ]
  },
  {
   "cell_type": "code",
   "execution_count": 4,
   "metadata": {},
   "outputs": [],
   "source": [
    "mv ~/spring-2.6.2 ~/spring"
   ]
  },
  {
   "cell_type": "code",
   "execution_count": 5,
   "metadata": {},
   "outputs": [],
   "source": [
    "chmod -R +rw ~/spring"
   ]
  },
  {
   "cell_type": "code",
   "execution_count": 6,
   "metadata": {},
   "outputs": [],
   "source": [
    "export PATH=$PATH:~/spring/bin"
   ]
  },
  {
   "cell_type": "code",
   "execution_count": 7,
   "metadata": {},
   "outputs": [
    {
     "name": "stdout",
     "output_type": "stream",
     "text": [
      "Spring CLI v2.6.2\n"
     ]
    }
   ],
   "source": [
    "spring --version"
   ]
  },
  {
   "cell_type": "markdown",
   "metadata": {},
   "source": [
    "### El \"*Hola, Mundo*\" desde la *CLI* de *Spring Boot*.\n",
    "\n",
    "El archivo [src/04/hola_mundo/hola.groovy](src/04/hola_mundo/hola.groovy\") contiene el siguiente código, el cual desplegará un mensaje simple desde un servicio web de *Spring Boot*:\n",
    "\n",
    "\n",
    "``` groovy\n",
    "@Controller\n",
    "class Ejemplo {\n",
    "   @RequestMapping(\"/\")\n",
    "   @ResponseBody\n",
    "   public String hola() {\n",
    "      \"Hola, Mundo\"\n",
    "   }\n",
    "}\n",
    "```\n",
    "\n"
   ]
  },
  {
   "cell_type": "markdown",
   "metadata": {},
   "source": [
    "* La siguiente celda despelgará un servicio web en http://localhost:8080 a partir del archivo previo."
   ]
  },
  {
   "cell_type": "code",
   "execution_count": 12,
   "metadata": {},
   "outputs": [],
   "source": [
    "sudo systemctl stop jenkins"
   ]
  },
  {
   "cell_type": "code",
   "execution_count": 13,
   "metadata": {},
   "outputs": [
    {
     "name": "stdout",
     "output_type": "stream",
     "text": [
      "\n",
      "  .   ____          _            __ _ _\n",
      " /\\\\ / ___'_ __ _ _(_)_ __  __ _ \\ \\ \\ \\\n",
      "( ( )\\___ | '_ | '_| | '_ \\/ _` | \\ \\ \\ \\\n",
      " \\\\/  ___)| |_)| | | | | || (_| |  ) ) ) )\n",
      "  '  |____| .__|_| |_|_| |_\\__, | / / / /\n",
      " =========|_|==============|___/=/_/_/_/\n",
      "\u001b[32m :: Spring Boot :: \u001b[39m              \u001b[2m (v2.6.2)\u001b[0;39m\n",
      "\n",
      "\u001b[2m2022-02-17 19:23:16.231\u001b[0;39m \u001b[32m INFO\u001b[0;39m \u001b[35m1790\u001b[0;39m \u001b[2m---\u001b[0;39m \u001b[2m[       runner-0]\u001b[0;39m \u001b[36mo.s.boot.SpringApplication              \u001b[0;39m \u001b[2m:\u001b[0;39m Starting application using Java 11.0.14 on pythonista with PID 1790 (started by oi in /opt/oi/qtop-tdd-spring)\n",
      "\u001b[2m2022-02-17 19:23:16.244\u001b[0;39m \u001b[32m INFO\u001b[0;39m \u001b[35m1790\u001b[0;39m \u001b[2m---\u001b[0;39m \u001b[2m[       runner-0]\u001b[0;39m \u001b[36mo.s.boot.SpringApplication              \u001b[0;39m \u001b[2m:\u001b[0;39m No active profile set, falling back to default profiles: default\n",
      "\u001b[2m2022-02-17 19:23:19.722\u001b[0;39m \u001b[32m INFO\u001b[0;39m \u001b[35m1790\u001b[0;39m \u001b[2m---\u001b[0;39m \u001b[2m[       runner-0]\u001b[0;39m \u001b[36mo.s.b.w.embedded.tomcat.TomcatWebServer \u001b[0;39m \u001b[2m:\u001b[0;39m Tomcat initialized with port(s): 8080 (http)\n",
      "\u001b[2m2022-02-17 19:23:19.759\u001b[0;39m \u001b[32m INFO\u001b[0;39m \u001b[35m1790\u001b[0;39m \u001b[2m---\u001b[0;39m \u001b[2m[       runner-0]\u001b[0;39m \u001b[36mo.apache.catalina.core.StandardService  \u001b[0;39m \u001b[2m:\u001b[0;39m Starting service [Tomcat]\n",
      "\u001b[2m2022-02-17 19:23:19.766\u001b[0;39m \u001b[32m INFO\u001b[0;39m \u001b[35m1790\u001b[0;39m \u001b[2m---\u001b[0;39m \u001b[2m[       runner-0]\u001b[0;39m \u001b[36morg.apache.catalina.core.StandardEngine \u001b[0;39m \u001b[2m:\u001b[0;39m Starting Servlet engine: [Apache Tomcat/9.0.56]\n",
      "\u001b[2m2022-02-17 19:23:19.874\u001b[0;39m \u001b[32m INFO\u001b[0;39m \u001b[35m1790\u001b[0;39m \u001b[2m---\u001b[0;39m \u001b[2m[       runner-0]\u001b[0;39m \u001b[36morg.apache.catalina.loader.WebappLoader \u001b[0;39m \u001b[2m:\u001b[0;39m Unknown class loader [org.springframework.boot.cli.compiler.ExtendedGroovyClassLoader$DefaultScopeParentClassLoader@3f0ee7cb] of class [class org.springframework.boot.cli.compiler.ExtendedGroovyClassLoader$DefaultScopeParentClassLoader]\n",
      "\u001b[2m2022-02-17 19:23:19.965\u001b[0;39m \u001b[32m INFO\u001b[0;39m \u001b[35m1790\u001b[0;39m \u001b[2m---\u001b[0;39m \u001b[2m[       runner-0]\u001b[0;39m \u001b[36mo.a.c.c.C.[Tomcat].[localhost].[/]      \u001b[0;39m \u001b[2m:\u001b[0;39m Initializing Spring embedded WebApplicationContext\n",
      "\u001b[2m2022-02-17 19:23:19.965\u001b[0;39m \u001b[32m INFO\u001b[0;39m \u001b[35m1790\u001b[0;39m \u001b[2m---\u001b[0;39m \u001b[2m[       runner-0]\u001b[0;39m \u001b[36mw.s.c.ServletWebServerApplicationContext\u001b[0;39m \u001b[2m:\u001b[0;39m Root WebApplicationContext: initialization completed in 3074 ms\n",
      "\u001b[2m2022-02-17 19:23:22.578\u001b[0;39m \u001b[32m INFO\u001b[0;39m \u001b[35m1790\u001b[0;39m \u001b[2m---\u001b[0;39m \u001b[2m[       runner-0]\u001b[0;39m \u001b[36mo.s.b.w.embedded.tomcat.TomcatWebServer \u001b[0;39m \u001b[2m:\u001b[0;39m Tomcat started on port(s): 8080 (http) with context path ''\n",
      "\u001b[2m2022-02-17 19:23:22.611\u001b[0;39m \u001b[32m INFO\u001b[0;39m \u001b[35m1790\u001b[0;39m \u001b[2m---\u001b[0;39m \u001b[2m[       runner-0]\u001b[0;39m \u001b[36mo.s.boot.SpringApplication              \u001b[0;39m \u001b[2m:\u001b[0;39m Started application in 7.654 seconds (JVM running for 13.602)\n",
      "\u001b[2m2022-02-17 19:23:47.182\u001b[0;39m \u001b[32m INFO\u001b[0;39m \u001b[35m1790\u001b[0;39m \u001b[2m---\u001b[0;39m \u001b[2m[nio-8080-exec-1]\u001b[0;39m \u001b[36mo.a.c.c.C.[Tomcat].[localhost].[/]      \u001b[0;39m \u001b[2m:\u001b[0;39m Initializing Spring DispatcherServlet 'dispatcherServlet'\n",
      "\u001b[2m2022-02-17 19:23:47.183\u001b[0;39m \u001b[32m INFO\u001b[0;39m \u001b[35m1790\u001b[0;39m \u001b[2m---\u001b[0;39m \u001b[2m[nio-8080-exec-1]\u001b[0;39m \u001b[36mo.s.web.servlet.DispatcherServlet       \u001b[0;39m \u001b[2m:\u001b[0;39m Initializing Servlet 'dispatcherServlet'\n",
      "\u001b[2m2022-02-17 19:23:47.190\u001b[0;39m \u001b[32m INFO\u001b[0;39m \u001b[35m1790\u001b[0;39m \u001b[2m---\u001b[0;39m \u001b[2m[nio-8080-exec-1]\u001b[0;39m \u001b[36mo.s.web.servlet.DispatcherServlet       \u001b[0;39m \u001b[2m:\u001b[0;39m Completed initialization in 6 ms\n"
     ]
    }
   ],
   "source": [
    "spring run src/04/hola_mundo/hola.groovy"
   ]
  },
  {
   "cell_type": "markdown",
   "metadata": {},
   "source": [
    "### *Spring Initializr*.\n",
    "\n",
    "Para facilitar el desarrollo de plantillas para el desarrollo de aplicaciones a la medida de forma ágil, está disponible el servico en línea llamado *Spring Initializr*, mediante el cual es posible crear una estructura de archivos compatibles con *Apache Maven* y *Gradle* que incluyen los componentes y dependencias de un proyecto específico.\n",
    "\n",
    "El servicio se encuentra en https://start.spring.io/\n",
    "\n",
    "Al final se podrá descargar un archivo comprimido que contiene lo necesario para comenzar a desarrolla una aplicación."
   ]
  },
  {
   "cell_type": "markdown",
   "metadata": {},
   "source": [
    "<p style=\"text-align: center\"><a rel=\"license\" href=\"http://creativecommons.org/licenses/by/4.0/\"><img alt=\"Licencia Creative Commons\" style=\"border-width:0\" src=\"https://i.creativecommons.org/l/by/4.0/80x15.png\" /></a><br />Esta obra está bajo una <a rel=\"license\" href=\"http://creativecommons.org/licenses/by/4.0/\">Licencia Creative Commons Atribución 4.0 Internacional</a>.</p>\n",
    "<p style=\"text-align: center\">&copy; José Luis Chiquete Valdivieso. 2022.</p>"
   ]
  }
 ],
 "metadata": {
  "kernelspec": {
   "display_name": "Bash",
   "language": "bash",
   "name": "bash"
  },
  "language_info": {
   "codemirror_mode": "shell",
   "file_extension": ".sh",
   "mimetype": "text/x-sh",
   "name": "bash"
  }
 },
 "nbformat": 4,
 "nbformat_minor": 2
}
