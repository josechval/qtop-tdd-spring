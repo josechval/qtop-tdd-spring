{
 "cells": [
  {
   "cell_type": "markdown",
   "metadata": {},
   "source": [
    "# Introducción a ```Gradle```.\n",
    "\n",
    "```Gradle``` es una herramienta que permite la automatización de construcción de binarios y elaboración de pruebas. Aún cuando el código de *Gradle* está escrito en *Java* (primordialmente), [*Groovy*](https://groovy-lang.org/) y [*Kotlin*](https://groovy-lang.org/). Es una herramienta que soporta diversos lenguajes frameworks y plataformas.\n",
    "\n",
    "La documentación de Gradle está disponible en:\n",
    "\n",
    "https://docs.gradle.org/current/userguide/userguide.html\n",
    "\n",
    "https://docs.gradle.org/current/userguide/userguide.pdf"
   ]
  },
  {
   "cell_type": "markdown",
   "metadata": {},
   "source": [
    "## ```Gradle 7```.\n",
    "\n",
    "*Gradle* es una herramienta que fue creada en 2007 y actualmente se encuentra el la [*versión 7.3*](https://gradle.org/releases/). \n",
    "\n",
    "Aún cuando existen diferencias que hacen incompatible la sintaxis de versiones previas de *Gradle*, es posible migrar el código de forma automatizada desde [*Gradle 6.x*](https://docs.gradle.org/6.4/userguide/upgrading_version_6.html)."
   ]
  },
  {
   "cell_type": "markdown",
   "metadata": {},
   "source": [
    "## Requisitos de instalación.\n",
    "\n",
    "*Gradle* funciona en prácticamente cualquier plataforma que tenga una *JVM* superior a la version 8.\n",
    "\n",
    "Las instrucciones de instalación están disponibles en:\n",
    "\n",
    "https://docs.gradle.org/current/userguide/installation.html\n",
    "\n",
    "La instalación de *Gradle* ya incluye una versión de *Kotlin*, *Groovy* y [*Apache Ant*](https://ant.apache.org/)."
   ]
  },
  {
   "cell_type": "markdown",
   "metadata": {},
   "source": [
    "## Configuración en el entorno de trabajo.\n",
    "\n",
    "Para fines de este curso, el servidor ```o-i.mx``` tiene instalada una instancia de *Gradle* en el directorio ```/opt/gradle/gradle-7.3.3/```.\n",
    "\n",
    "Para poder ejecutar los comandos de gradle es necesario añadir esta ruta a la variable de entorno ```PATH``` mediante la siguiente instrucción:"
   ]
  },
  {
   "cell_type": "code",
   "execution_count": 2,
   "metadata": {
    "scrolled": true
   },
   "outputs": [
    {
     "name": "stdout",
     "output_type": "stream",
     "text": [
      "--2022-02-03 19:05:31--  https://services.gradle.org/distributions/gradle-7.3.3-bin.zip\n",
      "Resolving services.gradle.org (services.gradle.org)... 104.18.190.9, 104.18.191.9, 2606:4700::6812:be09, ...\n",
      "Connecting to services.gradle.org (services.gradle.org)|104.18.190.9|:443... connected.\n",
      "HTTP request sent, awaiting response... 301 Moved Permanently\n",
      "Location: https://downloads.gradle-dn.com/distributions/gradle-7.3.3-bin.zip [following]\n",
      "--2022-02-03 19:05:31--  https://downloads.gradle-dn.com/distributions/gradle-7.3.3-bin.zip\n",
      "Resolving downloads.gradle-dn.com (downloads.gradle-dn.com)... 104.18.165.99, 104.18.164.99, 2606:4700::6812:a463, ...\n",
      "Connecting to downloads.gradle-dn.com (downloads.gradle-dn.com)|104.18.165.99|:443... connected.\n",
      "HTTP request sent, awaiting response... 200 OK\n",
      "Length: 115768236 (110M) [application/zip]\n",
      "Saving to: ‘gradle-7.3.3-bin.zip’\n",
      "\n",
      "gradle-7.3.3-bin.zi 100%[===================>] 110.40M  11.2MB/s    in 10s     \n",
      "\n",
      "2022-02-03 19:05:41 (11.0 MB/s) - ‘gradle-7.3.3-bin.zip’ saved [115768236/115768236]\n",
      "\n"
     ]
    }
   ],
   "source": [
    "wget https://services.gradle.org/distributions/gradle-7.3.3-bin.zip"
   ]
  },
  {
   "cell_type": "code",
   "execution_count": 3,
   "metadata": {},
   "outputs": [
    {
     "name": "stdout",
     "output_type": "stream",
     "text": [
      "Archive:  gradle-7.3.3-bin.zip\n",
      "   creating: /opt/gradle-7.3.3/\n",
      "  inflating: /opt/gradle-7.3.3/LICENSE  \n",
      "  inflating: /opt/gradle-7.3.3/NOTICE  \n",
      "  inflating: /opt/gradle-7.3.3/README  \n",
      "   creating: /opt/gradle-7.3.3/init.d/\n",
      "  inflating: /opt/gradle-7.3.3/init.d/readme.txt  \n",
      "   creating: /opt/gradle-7.3.3/bin/\n",
      "  inflating: /opt/gradle-7.3.3/bin/gradle  \n",
      "  inflating: /opt/gradle-7.3.3/bin/gradle.bat  \n",
      "   creating: /opt/gradle-7.3.3/lib/\n",
      "  inflating: /opt/gradle-7.3.3/lib/gradle-runtime-api-info-7.3.3.jar  \n",
      "  inflating: /opt/gradle-7.3.3/lib/gradle-installation-beacon-7.3.3.jar  \n",
      "  inflating: /opt/gradle-7.3.3/lib/gradle-api-metadata-7.3.3.jar  \n",
      "  inflating: /opt/gradle-7.3.3/lib/gradle-launcher-7.3.3.jar  \n",
      "  inflating: /opt/gradle-7.3.3/lib/gradle-kotlin-dsl-7.3.3.jar  \n",
      "  inflating: /opt/gradle-7.3.3/lib/gradle-bootstrap-7.3.3.jar  \n",
      "  inflating: /opt/gradle-7.3.3/lib/gradle-build-events-7.3.3.jar  \n",
      "  inflating: /opt/gradle-7.3.3/lib/gradle-tooling-api-7.3.3.jar  \n",
      "  inflating: /opt/gradle-7.3.3/lib/gradle-core-7.3.3.jar  \n",
      "  inflating: /opt/gradle-7.3.3/lib/gradle-file-collections-7.3.3.jar  \n",
      "  inflating: /opt/gradle-7.3.3/lib/gradle-jvm-services-7.3.3.jar  \n",
      "  inflating: /opt/gradle-7.3.3/lib/gradle-execution-7.3.3.jar  \n",
      "  inflating: /opt/gradle-7.3.3/lib/gradle-model-groovy-7.3.3.jar  \n",
      "  inflating: /opt/gradle-7.3.3/lib/gradle-model-core-7.3.3.jar  \n",
      "  inflating: /opt/gradle-7.3.3/lib/gradle-build-cache-7.3.3.jar  \n",
      "  inflating: /opt/gradle-7.3.3/lib/gradle-core-api-7.3.3.jar  \n",
      "  inflating: /opt/gradle-7.3.3/lib/gradle-persistent-cache-7.3.3.jar  \n",
      "  inflating: /opt/gradle-7.3.3/lib/gradle-worker-processes-7.3.3.jar  \n",
      "  inflating: /opt/gradle-7.3.3/lib/gradle-logging-7.3.3.jar  \n",
      "  inflating: /opt/gradle-7.3.3/lib/groovy-ant-3.0.9.jar  \n",
      "  inflating: /opt/gradle-7.3.3/lib/ant-junit-1.10.11.jar  \n",
      "  inflating: /opt/gradle-7.3.3/lib/ant-1.10.11.jar  \n",
      "  inflating: /opt/gradle-7.3.3/lib/ant-launcher-1.10.11.jar  \n",
      "  inflating: /opt/gradle-7.3.3/lib/gradle-process-services-7.3.3.jar  \n",
      "  inflating: /opt/gradle-7.3.3/lib/gradle-resources-7.3.3.jar  \n",
      "  inflating: /opt/gradle-7.3.3/lib/gradle-messaging-7.3.3.jar  \n",
      "  inflating: /opt/gradle-7.3.3/lib/gradle-native-7.3.3.jar  \n",
      "  inflating: /opt/gradle-7.3.3/lib/gradle-base-services-groovy-7.3.3.jar  \n",
      "  inflating: /opt/gradle-7.3.3/lib/gradle-file-temp-7.3.3.jar  \n",
      "  inflating: /opt/gradle-7.3.3/lib/gradle-base-services-7.3.3.jar  \n",
      "  inflating: /opt/gradle-7.3.3/lib/gradle-normalization-java-7.3.3.jar  \n",
      "  inflating: /opt/gradle-7.3.3/lib/asm-commons-9.1.jar  \n",
      "  inflating: /opt/gradle-7.3.3/lib/asm-analysis-9.1.jar  \n",
      "  inflating: /opt/gradle-7.3.3/lib/asm-tree-9.1.jar  \n",
      "  inflating: /opt/gradle-7.3.3/lib/asm-9.1.jar  \n",
      "  inflating: /opt/gradle-7.3.3/lib/gradle-build-cache-packaging-7.3.3.jar  \n",
      "  inflating: /opt/gradle-7.3.3/lib/commons-compress-1.21.jar  \n",
      "  inflating: /opt/gradle-7.3.3/lib/commons-io-2.6.jar  \n",
      "  inflating: /opt/gradle-7.3.3/lib/gradle-build-option-7.3.3.jar  \n",
      "  inflating: /opt/gradle-7.3.3/lib/commons-lang-2.6.jar  \n",
      "  inflating: /opt/gradle-7.3.3/lib/fastutil-8.5.2-min.jar  \n",
      "  inflating: /opt/gradle-7.3.3/lib/groovy-json-3.0.9.jar  \n",
      "  inflating: /opt/gradle-7.3.3/lib/groovy-astbuilder-3.0.9.jar  \n",
      "  inflating: /opt/gradle-7.3.3/lib/groovy-console-3.0.9.jar  \n",
      "  inflating: /opt/gradle-7.3.3/lib/groovy-dateutil-3.0.9.jar  \n",
      "  inflating: /opt/gradle-7.3.3/lib/groovy-datetime-3.0.9.jar  \n",
      "  inflating: /opt/gradle-7.3.3/lib/groovy-groovydoc-3.0.9.jar  \n",
      "  inflating: /opt/gradle-7.3.3/lib/groovy-nio-3.0.9.jar  \n",
      "  inflating: /opt/gradle-7.3.3/lib/groovy-sql-3.0.9.jar  \n",
      "  inflating: /opt/gradle-7.3.3/lib/groovy-docgenerator-3.0.9.jar  \n",
      "  inflating: /opt/gradle-7.3.3/lib/groovy-templates-3.0.9.jar  \n",
      "  inflating: /opt/gradle-7.3.3/lib/groovy-test-3.0.9.jar  \n",
      "  inflating: /opt/gradle-7.3.3/lib/groovy-xml-3.0.9.jar  \n",
      "  inflating: /opt/gradle-7.3.3/lib/groovy-swing-3.0.9.jar  \n",
      "  inflating: /opt/gradle-7.3.3/lib/groovy-3.0.9.jar  \n",
      "  inflating: /opt/gradle-7.3.3/lib/gradle-file-watching-7.3.3.jar  \n",
      "  inflating: /opt/gradle-7.3.3/lib/gradle-snapshots-7.3.3.jar  \n",
      "  inflating: /opt/gradle-7.3.3/lib/gradle-build-cache-base-7.3.3.jar  \n",
      "  inflating: /opt/gradle-7.3.3/lib/gradle-files-7.3.3.jar  \n",
      "  inflating: /opt/gradle-7.3.3/lib/gradle-hashing-7.3.3.jar  \n",
      "  inflating: /opt/gradle-7.3.3/lib/guava-30.1.1-jre.jar  \n",
      "  inflating: /opt/gradle-7.3.3/lib/junit-4.13.2.jar  \n",
      "  inflating: /opt/gradle-7.3.3/lib/hamcrest-core-1.3.jar  \n",
      "  inflating: /opt/gradle-7.3.3/lib/javax.inject-1.jar  \n",
      "  inflating: /opt/gradle-7.3.3/lib/jansi-1.18.jar  \n",
      "  inflating: /opt/gradle-7.3.3/lib/jcl-over-slf4j-1.7.30.jar  \n",
      "  inflating: /opt/gradle-7.3.3/lib/kotlin-stdlib-jdk8-1.5.31.jar  \n",
      "  inflating: /opt/gradle-7.3.3/lib/kotlin-compiler-embeddable-1.5.31-patched-for-gradle-7.3.3.jar  \n",
      "  inflating: /opt/gradle-7.3.3/lib/kotlin-stdlib-jdk7-1.5.31.jar  \n",
      "  inflating: /opt/gradle-7.3.3/lib/kotlin-reflect-1.5.31.jar  \n",
      "  inflating: /opt/gradle-7.3.3/lib/kotlin-stdlib-1.5.31.jar  \n",
      "  inflating: /opt/gradle-7.3.3/lib/annotations-20.1.0.jar  \n",
      "  inflating: /opt/gradle-7.3.3/lib/gradle-problems-7.3.3.jar  \n",
      "  inflating: /opt/gradle-7.3.3/lib/gradle-kotlin-dsl-tooling-models-7.3.3.jar  \n",
      "  inflating: /opt/gradle-7.3.3/lib/gradle-functional-7.3.3.jar  \n",
      "  inflating: /opt/gradle-7.3.3/lib/gradle-build-operations-7.3.3.jar  \n",
      "  inflating: /opt/gradle-7.3.3/lib/gradle-base-annotations-7.3.3.jar  \n",
      "  inflating: /opt/gradle-7.3.3/lib/tomlj-1.0.0.jar  \n",
      "  inflating: /opt/gradle-7.3.3/lib/jsr305-3.0.2.jar  \n",
      "  inflating: /opt/gradle-7.3.3/lib/jul-to-slf4j-1.7.30.jar  \n",
      "  inflating: /opt/gradle-7.3.3/lib/kryo-2.24.0.jar  \n",
      "  inflating: /opt/gradle-7.3.3/lib/log4j-over-slf4j-1.7.30.jar  \n",
      "  inflating: /opt/gradle-7.3.3/lib/minlog-1.2.jar  \n",
      "  inflating: /opt/gradle-7.3.3/lib/native-platform-0.22-milestone-21.jar  \n",
      "  inflating: /opt/gradle-7.3.3/lib/file-events-0.22-milestone-21.jar  \n",
      "  inflating: /opt/gradle-7.3.3/lib/objenesis-2.6.jar  \n",
      "  inflating: /opt/gradle-7.3.3/lib/slf4j-api-1.7.30.jar  \n",
      "  inflating: /opt/gradle-7.3.3/lib/trove4j-1.0.20181211.jar  \n",
      "  inflating: /opt/gradle-7.3.3/lib/xml-apis-1.4.01.jar  \n",
      "  inflating: /opt/gradle-7.3.3/lib/javaparser-core-3.17.0.jar  \n",
      "  inflating: /opt/gradle-7.3.3/lib/gradle-wrapper-7.3.3.jar  \n",
      "  inflating: /opt/gradle-7.3.3/lib/gradle-cli-7.3.3.jar  \n",
      "  inflating: /opt/gradle-7.3.3/lib/kotlin-script-runtime-1.5.31.jar  \n",
      "  inflating: /opt/gradle-7.3.3/lib/kotlin-daemon-embeddable-1.5.31.jar  \n",
      "  inflating: /opt/gradle-7.3.3/lib/kotlin-scripting-common-1.5.31.jar  \n",
      "  inflating: /opt/gradle-7.3.3/lib/kotlin-scripting-jvm-1.5.31.jar  \n",
      "  inflating: /opt/gradle-7.3.3/lib/kotlin-scripting-jvm-host-1.5.31.jar  \n",
      "  inflating: /opt/gradle-7.3.3/lib/kotlin-scripting-compiler-embeddable-1.5.31.jar  \n",
      "  inflating: /opt/gradle-7.3.3/lib/kotlin-scripting-compiler-impl-embeddable-1.5.31.jar  \n",
      "  inflating: /opt/gradle-7.3.3/lib/kotlin-sam-with-receiver-compiler-plugin-1.5.31.jar  \n",
      "  inflating: /opt/gradle-7.3.3/lib/kotlinx-metadata-jvm-0.3.0.jar  \n",
      "  inflating: /opt/gradle-7.3.3/lib/failureaccess-1.0.1.jar  \n",
      "  inflating: /opt/gradle-7.3.3/lib/native-platform-freebsd-amd64-libcpp-0.22-milestone-21.jar  \n",
      "  inflating: /opt/gradle-7.3.3/lib/native-platform-linux-aarch64-0.22-milestone-21.jar  \n",
      "  inflating: /opt/gradle-7.3.3/lib/native-platform-linux-amd64-0.22-milestone-21.jar  \n",
      "  inflating: /opt/gradle-7.3.3/lib/native-platform-osx-aarch64-0.22-milestone-21.jar  \n",
      "  inflating: /opt/gradle-7.3.3/lib/native-platform-osx-amd64-0.22-milestone-21.jar  \n",
      "  inflating: /opt/gradle-7.3.3/lib/native-platform-windows-amd64-0.22-milestone-21.jar  \n",
      "  inflating: /opt/gradle-7.3.3/lib/native-platform-windows-amd64-min-0.22-milestone-21.jar  \n",
      "  inflating: /opt/gradle-7.3.3/lib/native-platform-windows-i386-0.22-milestone-21.jar  \n",
      "  inflating: /opt/gradle-7.3.3/lib/native-platform-windows-i386-min-0.22-milestone-21.jar  \n",
      "  inflating: /opt/gradle-7.3.3/lib/native-platform-linux-aarch64-ncurses5-0.22-milestone-21.jar  \n",
      "  inflating: /opt/gradle-7.3.3/lib/native-platform-linux-aarch64-ncurses6-0.22-milestone-21.jar  \n",
      "  inflating: /opt/gradle-7.3.3/lib/native-platform-linux-amd64-ncurses5-0.22-milestone-21.jar  \n",
      "  inflating: /opt/gradle-7.3.3/lib/native-platform-linux-amd64-ncurses6-0.22-milestone-21.jar  \n"
     ]
    },
    {
     "name": "stdout",
     "output_type": "stream",
     "text": [
      "  inflating: /opt/gradle-7.3.3/lib/file-events-linux-aarch64-0.22-milestone-21.jar  \n",
      "  inflating: /opt/gradle-7.3.3/lib/file-events-linux-amd64-0.22-milestone-21.jar  \n",
      "  inflating: /opt/gradle-7.3.3/lib/file-events-osx-aarch64-0.22-milestone-21.jar  \n",
      "  inflating: /opt/gradle-7.3.3/lib/file-events-osx-amd64-0.22-milestone-21.jar  \n",
      "  inflating: /opt/gradle-7.3.3/lib/file-events-windows-amd64-0.22-milestone-21.jar  \n",
      "  inflating: /opt/gradle-7.3.3/lib/file-events-windows-amd64-min-0.22-milestone-21.jar  \n",
      "  inflating: /opt/gradle-7.3.3/lib/file-events-windows-i386-0.22-milestone-21.jar  \n",
      "  inflating: /opt/gradle-7.3.3/lib/file-events-windows-i386-min-0.22-milestone-21.jar  \n",
      "  inflating: /opt/gradle-7.3.3/lib/ant-antlr-1.10.11.jar  \n",
      "  inflating: /opt/gradle-7.3.3/lib/antlr4-runtime-4.7.2.jar  \n",
      "  inflating: /opt/gradle-7.3.3/lib/kotlin-stdlib-common-1.5.31.jar  \n",
      "  inflating: /opt/gradle-7.3.3/lib/qdox-1.12.1.jar  \n",
      "   creating: /opt/gradle-7.3.3/lib/plugins/\n",
      "  inflating: /opt/gradle-7.3.3/lib/plugins/gradle-kotlin-dsl-provider-plugins-7.3.3.jar  \n",
      "  inflating: /opt/gradle-7.3.3/lib/plugins/gradle-plugin-development-7.3.3.jar  \n",
      "  inflating: /opt/gradle-7.3.3/lib/plugins/gradle-build-init-7.3.3.jar  \n",
      "  inflating: /opt/gradle-7.3.3/lib/plugins/gradle-build-profile-7.3.3.jar  \n",
      "  inflating: /opt/gradle-7.3.3/lib/plugins/gradle-antlr-7.3.3.jar  \n",
      "  inflating: /opt/gradle-7.3.3/lib/plugins/gradle-enterprise-7.3.3.jar  \n",
      "  inflating: /opt/gradle-7.3.3/lib/plugins/gradle-tooling-api-builders-7.3.3.jar  \n",
      "  inflating: /opt/gradle-7.3.3/lib/plugins/gradle-configuration-cache-7.3.3.jar  \n",
      "  inflating: /opt/gradle-7.3.3/lib/plugins/gradle-kotlin-dsl-tooling-builders-7.3.3.jar  \n",
      "  inflating: /opt/gradle-7.3.3/lib/plugins/gradle-code-quality-7.3.3.jar  \n",
      "  inflating: /opt/gradle-7.3.3/lib/plugins/gradle-signing-7.3.3.jar  \n",
      "  inflating: /opt/gradle-7.3.3/lib/plugins/gradle-tooling-native-7.3.3.jar  \n",
      "  inflating: /opt/gradle-7.3.3/lib/plugins/gradle-ide-native-7.3.3.jar  \n",
      "  inflating: /opt/gradle-7.3.3/lib/plugins/gradle-ide-7.3.3.jar  \n",
      "  inflating: /opt/gradle-7.3.3/lib/plugins/gradle-scala-7.3.3.jar  \n",
      "  inflating: /opt/gradle-7.3.3/lib/plugins/gradle-ear-7.3.3.jar  \n",
      "  inflating: /opt/gradle-7.3.3/lib/plugins/gradle-jacoco-7.3.3.jar  \n",
      "  inflating: /opt/gradle-7.3.3/lib/plugins/gradle-testing-native-7.3.3.jar  \n",
      "  inflating: /opt/gradle-7.3.3/lib/plugins/gradle-language-native-7.3.3.jar  \n",
      "  inflating: /opt/gradle-7.3.3/lib/plugins/gradle-maven-7.3.3.jar  \n",
      "  inflating: /opt/gradle-7.3.3/lib/plugins/gradle-ivy-7.3.3.jar  \n",
      "  inflating: /opt/gradle-7.3.3/lib/plugins/gradle-plugins-7.3.3.jar  \n",
      "  inflating: /opt/gradle-7.3.3/lib/plugins/gradle-testing-junit-platform-7.3.3.jar  \n",
      "  inflating: /opt/gradle-7.3.3/lib/plugins/gradle-testing-jvm-7.3.3.jar  \n",
      "  inflating: /opt/gradle-7.3.3/lib/plugins/gradle-language-groovy-7.3.3.jar  \n",
      "  inflating: /opt/gradle-7.3.3/lib/plugins/gradle-language-java-7.3.3.jar  \n",
      "  inflating: /opt/gradle-7.3.3/lib/plugins/gradle-language-jvm-7.3.3.jar  \n",
      "  inflating: /opt/gradle-7.3.3/lib/plugins/gradle-platform-jvm-7.3.3.jar  \n",
      "  inflating: /opt/gradle-7.3.3/lib/plugins/gradle-composite-builds-7.3.3.jar  \n",
      "  inflating: /opt/gradle-7.3.3/lib/plugins/gradle-plugin-use-7.3.3.jar  \n",
      "  inflating: /opt/gradle-7.3.3/lib/plugins/gradle-publish-7.3.3.jar  \n",
      "  inflating: /opt/gradle-7.3.3/lib/plugins/gradle-testing-base-7.3.3.jar  \n",
      "  inflating: /opt/gradle-7.3.3/lib/plugins/gradle-platform-native-7.3.3.jar  \n",
      "  inflating: /opt/gradle-7.3.3/lib/plugins/gradle-diagnostics-7.3.3.jar  \n",
      "  inflating: /opt/gradle-7.3.3/lib/plugins/gradle-platform-base-7.3.3.jar  \n",
      "  inflating: /opt/gradle-7.3.3/lib/plugins/gradle-version-control-7.3.3.jar  \n",
      "  inflating: /opt/gradle-7.3.3/lib/plugins/gradle-dependency-management-7.3.3.jar  \n",
      "  inflating: /opt/gradle-7.3.3/lib/plugins/gradle-reporting-7.3.3.jar  \n",
      "  inflating: /opt/gradle-7.3.3/lib/plugins/gradle-workers-7.3.3.jar  \n",
      "  inflating: /opt/gradle-7.3.3/lib/plugins/gradle-test-kit-7.3.3.jar  \n",
      "  inflating: /opt/gradle-7.3.3/lib/plugins/gradle-resources-s3-7.3.3.jar  \n",
      "  inflating: /opt/gradle-7.3.3/lib/plugins/gradle-resources-gcs-7.3.3.jar  \n",
      "  inflating: /opt/gradle-7.3.3/lib/plugins/gradle-build-cache-http-7.3.3.jar  \n",
      "  inflating: /opt/gradle-7.3.3/lib/plugins/gradle-security-7.3.3.jar  \n",
      "  inflating: /opt/gradle-7.3.3/lib/plugins/gradle-resources-http-7.3.3.jar  \n",
      "  inflating: /opt/gradle-7.3.3/lib/plugins/gradle-resources-sftp-7.3.3.jar  \n",
      "  inflating: /opt/gradle-7.3.3/lib/plugins/aws-java-sdk-s3-1.11.948.jar  \n",
      "  inflating: /opt/gradle-7.3.3/lib/plugins/aws-java-sdk-kms-1.11.948.jar  \n",
      "  inflating: /opt/gradle-7.3.3/lib/plugins/aws-java-sdk-sts-1.11.948.jar  \n",
      "  inflating: /opt/gradle-7.3.3/lib/plugins/aws-java-sdk-core-1.11.948.jar  \n",
      "  inflating: /opt/gradle-7.3.3/lib/plugins/org.eclipse.jgit-5.7.0.202003110725-r.jar  \n",
      "  inflating: /opt/gradle-7.3.3/lib/plugins/bcpg-jdk15on-1.68.jar  \n",
      "  inflating: /opt/gradle-7.3.3/lib/plugins/bcpkix-jdk15on-1.68.jar  \n",
      "  inflating: /opt/gradle-7.3.3/lib/plugins/bcprov-jdk15on-1.68.jar  \n",
      "  inflating: /opt/gradle-7.3.3/lib/plugins/testng-6.3.1.jar  \n",
      "  inflating: /opt/gradle-7.3.3/lib/plugins/bsh-2.0b6.jar  \n",
      "  inflating: /opt/gradle-7.3.3/lib/plugins/capsule-0.6.3.jar  \n",
      "  inflating: /opt/gradle-7.3.3/lib/plugins/google-api-services-storage-v1-rev171-1.25.0.jar  \n",
      "  inflating: /opt/gradle-7.3.3/lib/plugins/google-api-client-1.25.0.jar  \n",
      "  inflating: /opt/gradle-7.3.3/lib/plugins/google-oauth-client-1.25.0.jar  \n",
      "  inflating: /opt/gradle-7.3.3/lib/plugins/google-http-client-jackson2-1.25.0.jar  \n",
      "  inflating: /opt/gradle-7.3.3/lib/plugins/google-http-client-1.25.0.jar  \n",
      "  inflating: /opt/gradle-7.3.3/lib/plugins/httpclient-4.5.13.jar  \n",
      "  inflating: /opt/gradle-7.3.3/lib/plugins/commons-codec-1.15.jar  \n",
      "  inflating: /opt/gradle-7.3.3/lib/plugins/gson-2.8.6.jar  \n",
      "  inflating: /opt/gradle-7.3.3/lib/plugins/jmespath-java-1.11.948.jar  \n",
      "  inflating: /opt/gradle-7.3.3/lib/plugins/jackson-databind-2.12.1.jar  \n",
      "  inflating: /opt/gradle-7.3.3/lib/plugins/jackson-core-2.12.1.jar  \n",
      "  inflating: /opt/gradle-7.3.3/lib/plugins/jackson-annotations-2.12.1.jar  \n",
      "  inflating: /opt/gradle-7.3.3/lib/plugins/httpcore-4.4.14.jar  \n",
      "  inflating: /opt/gradle-7.3.3/lib/plugins/maven-settings-builder-3.6.3.jar  \n",
      "  inflating: /opt/gradle-7.3.3/lib/plugins/ivy-2.3.0.jar  \n",
      "  inflating: /opt/gradle-7.3.3/lib/plugins/jaxb-impl-3.0.0.jar  \n",
      "  inflating: /opt/gradle-7.3.3/lib/plugins/jaxb-core-3.0.0.jar  \n",
      "  inflating: /opt/gradle-7.3.3/lib/plugins/jakarta.xml.bind-api-3.0.0.jar  \n",
      "  inflating: /opt/gradle-7.3.3/lib/plugins/jakarta.activation-2.0.0.jar  \n",
      "  inflating: /opt/gradle-7.3.3/lib/plugins/jatl-0.2.3.jar  \n",
      "  inflating: /opt/gradle-7.3.3/lib/plugins/jcifs-1.3.17.jar  \n",
      "  inflating: /opt/gradle-7.3.3/lib/plugins/jcommander-1.78.jar  \n",
      "  inflating: /opt/gradle-7.3.3/lib/plugins/joda-time-2.10.4.jar  \n",
      "  inflating: /opt/gradle-7.3.3/lib/plugins/jsch-0.1.55.jar  \n",
      "  inflating: /opt/gradle-7.3.3/lib/plugins/junit-platform-engine-1.7.2.jar  \n",
      "  inflating: /opt/gradle-7.3.3/lib/plugins/junit-platform-commons-1.7.2.jar  \n",
      "  inflating: /opt/gradle-7.3.3/lib/plugins/junit-platform-launcher-1.7.2.jar  \n",
      "  inflating: /opt/gradle-7.3.3/lib/plugins/jzlib-1.1.3.jar  \n",
      "  inflating: /opt/gradle-7.3.3/lib/plugins/maven-builder-support-3.6.3.jar  \n",
      "  inflating: /opt/gradle-7.3.3/lib/plugins/maven-model-3.6.3.jar  \n",
      "  inflating: /opt/gradle-7.3.3/lib/plugins/maven-repository-metadata-3.6.3.jar  \n",
      "  inflating: /opt/gradle-7.3.3/lib/plugins/maven-settings-3.6.3.jar  \n",
      "  inflating: /opt/gradle-7.3.3/lib/plugins/nekohtml-1.9.22.jar  \n",
      "  inflating: /opt/gradle-7.3.3/lib/plugins/plexus-sec-dispatcher-1.4.jar  \n",
      "  inflating: /opt/gradle-7.3.3/lib/plugins/plexus-cipher-1.7.jar  \n",
      "  inflating: /opt/gradle-7.3.3/lib/plugins/plexus-interpolation-1.26.jar  \n",
      "  inflating: /opt/gradle-7.3.3/lib/plugins/plexus-utils-3.3.0.jar  \n",
      "  inflating: /opt/gradle-7.3.3/lib/plugins/dd-plist-1.21.jar  \n",
      "  inflating: /opt/gradle-7.3.3/lib/plugins/snakeyaml-1.28.jar  \n",
      "  inflating: /opt/gradle-7.3.3/lib/plugins/xercesImpl-2.12.0.jar  \n",
      "  inflating: /opt/gradle-7.3.3/lib/plugins/gradle-java-compiler-plugin-7.3.3.jar  \n",
      "  inflating: /opt/gradle-7.3.3/lib/plugins/ion-java-1.0.2.jar  \n",
      "  inflating: /opt/gradle-7.3.3/lib/plugins/apiguardian-api-1.1.0.jar  \n"
     ]
    },
    {
     "name": "stdout",
     "output_type": "stream",
     "text": [
      "  inflating: /opt/gradle-7.3.3/lib/plugins/opentest4j-1.2.0.jar  \n"
     ]
    }
   ],
   "source": [
    "sudo unzip gradle-7.3.3-bin.zip -d /opt/"
   ]
  },
  {
   "cell_type": "code",
   "execution_count": 15,
   "metadata": {},
   "outputs": [],
   "source": [
    "export PATH=$PATH:/opt/gradle-7.3.3/bin"
   ]
  },
  {
   "cell_type": "code",
   "execution_count": 16,
   "metadata": {},
   "outputs": [],
   "source": [
    "sudo chmod +x /opt/gradle-7.3.3/bin/gradle"
   ]
  },
  {
   "cell_type": "code",
   "execution_count": 17,
   "metadata": {
    "scrolled": true
   },
   "outputs": [
    {
     "name": "stdout",
     "output_type": "stream",
     "text": [
      "/home/oi/pythonista/bin:/home/oi/pythonista/bin:/usr/local/sbin:/usr/local/bin:/usr/sbin:/usr/bin:/sbin:/bin:/opt/gradle/gradle-7.3.3/bin:/opt/gradle-7.3.3/bin\n"
     ]
    }
   ],
   "source": [
    "echo $PATH"
   ]
  },
  {
   "cell_type": "markdown",
   "metadata": {},
   "source": [
    "En caso de que se desee que esta configuración sea permanente se puede ejecutar la siguiente instrucción:\n",
    "\n",
    "**Advertencia:** Modificar de forma incorrecta al archivo ```~/.bashrc``` puede ser riesgoso."
   ]
  },
  {
   "cell_type": "code",
   "execution_count": 18,
   "metadata": {},
   "outputs": [],
   "source": [
    "echo \"export PATH=$PATH:/opt/gradle-7.3.3/bin\" >> ~/.bashrc"
   ]
  },
  {
   "cell_type": "markdown",
   "metadata": {},
   "source": [
    "Para validar que la configuración es correcta puede ejecutar:"
   ]
  },
  {
   "cell_type": "code",
   "execution_count": 19,
   "metadata": {},
   "outputs": [
    {
     "name": "stdout",
     "output_type": "stream",
     "text": [
      "\n",
      "------------------------------------------------------------\n",
      "Gradle 7.3.3\n",
      "------------------------------------------------------------\n",
      "\n",
      "Build time:   2021-12-22 12:37:54 UTC\n",
      "Revision:     6f556c80f945dc54b50e0be633da6c62dbe8dc71\n",
      "\n",
      "Kotlin:       1.5.31\n",
      "Groovy:       3.0.9\n",
      "Ant:          Apache Ant(TM) version 1.10.11 compiled on July 10 2021\n",
      "JVM:          11.0.14 (Debian 11.0.14+9-post-Debian-1deb11u1)\n",
      "OS:           Linux 5.10.0-11-amd64 amd64\n",
      "\n"
     ]
    }
   ],
   "source": [
    "gradle -v"
   ]
  },
  {
   "cell_type": "markdown",
   "metadata": {},
   "source": [
    "## Funcionalidades y características.\n",
    "\n",
    "https://gradle.org/features\n",
    "\n",
    "* Ejecución de corridas de construcción de binarios (*Gradle builds*).\n",
    "    * Optimización de desempeño.\n",
    "        * Corridas incrementales.\n",
    "        * Corridas en cache.\n",
    "        * Subtareas incrementales.\n",
    "        * Procesamiento incremental de anotaciones.\n",
    "        * Daemon de compilación.\n",
    "        * Ejecución en paralelo.\n",
    "        * Descarga de dependencias en paralelo.\n",
    "        * Restriccion de tiempo por tarea.\n",
    "        \n",
    "    * Análisis de la corrida (*build scans*).\n",
    "        * Visualización basada en web.\n",
    "        * Depuración colaborativa.\n",
    "        * Extensible y ajustable.\n",
    "\n",
    "    * Opciones de ejecución.\n",
    "       * Corridas continuas.\n",
    "       * Corridas compuestas.\n",
    "       * Exclusión de tareas.\n",
    "       * #Ejecuciones simuladas (*dry run*).\n",
    "       * Ejecución continua después de fallos.\n",
    "       * Ejecución de pruebas de fallo rápidas.\n",
    "       * Sincronización del cache de dependencias con repositorios. \n",
    "* Creación de corridas.\n",
    "    * La lógica es código susceptible de ser probado.\n",
    "        * *DSL* con *Groovy* y *Kotlin*.\n",
    "        * El plugin de inicialización de *Gradle* (*Gradle Init Plugin*).\n",
    "    * Gestión de dependencias.\n",
    "        * Dependencias transitivas.\n",
    "        * Ámbitos de dependencias ajustables.\n",
    "        * Dependencias basadas en archivos.\n",
    "        * Plantillas ajustables de repositorios.\n",
    "        * Compatibilidad con repositorios de *Ivy* y *Maven*.\n",
    "        * Soporte nativo de *BOM*.\n",
    "        * Dependencias dinámicas.\n",
    "        * Bloqueo de dependencias.\n",
    "        * Reglas de selección de dependencias dinámicas.\n",
    "        * Resolución de conflictos de versiones.\n",
    "        * Sustitución de bibliotecas compatibles.\n",
    "        * Soporte mejorado de resolución de metadatos.\n",
    "        * Sustitución de dependencias externas y de proyecto.\n",
    "        \n",
    "    * Estandarización entre grupos de trabajo.\n",
    "        * Entorno de corrida autogenerado.\n",
    "        * Configuración de los entornos de corrida cotrolados por versiones.\n",
    "        * Distirbuciones a la medida.\n",
    "    * [*Software Domain Modeling*](https://es.wikipedia.org/wiki/Modelo_de_dominio).\n",
    "        * Contenedores de objetos de dominio.\n",
    "        * Publicaciónd de múltiples artefactos.\n",
    "        * Orden de tareas avanzado.\n",
    "        * Inferencia de las dependencias de una tarea.\n",
    "        * Finalizadores de tareas.\n",
    "        * Creación dinámica de tareas.\n",
    "        * Sensor de eventos a detalle.\n",
    "        * Inyección de comportamientos basados en usuarios.\n",
    "        * Inyección de  comportamiento por corrida.\n",
    "        \n",
    "* Funcionalidades específicas de ecosistema.\n",
    "    * Aplicaciones para la *JVM*.\n",
    "        * Compilaciones incrementales de *Java*.\n",
    "        * Soporte de plugins para herramientas de calidad de código de Java ([*JaCoCo*](https://www.jacoco.org/)).\n",
    "        * Empaquetado y distribución de *JARs*, *WARs* y *EARs*.\n",
    "        * Publicación en repositorios de *Maven* e *Ivy*.\n",
    "        * Integración con *Ant*."
   ]
  },
  {
   "cell_type": "markdown",
   "metadata": {},
   "source": [
    "## El comando ```gradle```.\n",
    "\n",
    "La ejecución de los proyectos y tareas de *Gradle* se realiza medainte el comando:\n",
    "\n",
    "```\n",
    "gradle <tarea 1> <tarea 2> ... <tarea n> <opción 1> <opción 2> ... <opción n>\n",
    "```\n",
    "\n",
    "Donde:\n",
    "\n",
    "* ```<tarea i>``` corresponde a una tarea definida.\n",
    "* ```<opción i>``` corresponde a una opción de ejecución de ```gradle```."
   ]
  },
  {
   "cell_type": "markdown",
   "metadata": {},
   "source": [
    "**Ejemplos:**"
   ]
  },
  {
   "cell_type": "markdown",
   "metadata": {},
   "source": [
    "* El siguiente comando desplegará la ayuda de ```gradle```."
   ]
  },
  {
   "cell_type": "code",
   "execution_count": 20,
   "metadata": {
    "scrolled": false
   },
   "outputs": [
    {
     "name": "stdout",
     "output_type": "stream",
     "text": [
      "\n",
      "USAGE: gradle [option...] [task...]\n",
      "\n",
      "-?, -h, --help                     Shows this help message.\n",
      "-a, --no-rebuild                   Do not rebuild project dependencies.\n",
      "-b, --build-file                   Specify the build file. [deprecated]\n",
      "--build-cache                      Enables the Gradle build cache. Gradle will try to reuse outputs from previous builds.\n",
      "-c, --settings-file                Specify the settings file. [deprecated]\n",
      "--configuration-cache              Enables the configuration cache. Gradle will try to reuse the build configuration from previous builds. [incubating]\n",
      "--configuration-cache-problems     Configures how the configuration cache handles problems (fail or warn). Defaults to fail. [incubating]\n",
      "--configure-on-demand              Configure necessary projects only. Gradle will attempt to reduce configuration time for large multi-project builds. [incubating]\n",
      "--console                          Specifies which type of console output to generate. Values are 'plain', 'auto' (default), 'rich' or 'verbose'.\n",
      "--continue                         Continue task execution after a task failure.\n",
      "-D, --system-prop                  Set system property of the JVM (e.g. -Dmyprop=myvalue).\n",
      "-d, --debug                        Log in debug mode (includes normal stacktrace).\n",
      "--daemon                           Uses the Gradle daemon to run the build. Starts the daemon if not running.\n",
      "--export-keys                      Exports the public keys used for dependency verification.\n",
      "-F, --dependency-verification      Configures the dependency verification mode. Values are 'strict', 'lenient' or 'off'.\n",
      "--foreground                       Starts the Gradle daemon in the foreground.\n",
      "-g, --gradle-user-home             Specifies the Gradle user home directory. Defaults to ~/.gradle\n",
      "-I, --init-script                  Specify an initialization script.\n",
      "-i, --info                         Set log level to info.\n",
      "--include-build                    Include the specified build in the composite.\n",
      "-M, --write-verification-metadata  Generates checksums for dependencies used in the project (comma-separated list)\n",
      "-m, --dry-run                      Run the builds with all task actions disabled.\n",
      "--max-workers                      Configure the number of concurrent workers Gradle is allowed to use.\n",
      "--no-build-cache                   Disables the Gradle build cache.\n",
      "--no-configuration-cache           Disables the configuration cache. [incubating]\n",
      "--no-configure-on-demand           Disables the use of configuration on demand. [incubating]\n",
      "--no-daemon                        Do not use the Gradle daemon to run the build. Useful occasionally if you have configured Gradle to always run with the daemon by default.\n",
      "--no-parallel                      Disables parallel execution to build projects.\n",
      "--no-scan                          Disables the creation of a build scan. For more information about build scans, please visit https://gradle.com/build-scans.\n",
      "--no-watch-fs                      Disables watching the file system.\n",
      "--offline                          Execute the build without accessing network resources.\n",
      "-P, --project-prop                 Set project property for the build script (e.g. -Pmyprop=myvalue).\n",
      "-p, --project-dir                  Specifies the start directory for Gradle. Defaults to current directory.\n",
      "--parallel                         Build projects in parallel. Gradle will attempt to determine the optimal number of executor threads to use.\n",
      "--priority                         Specifies the scheduling priority for the Gradle daemon and all processes launched by it. Values are 'normal' (default) or 'low'\n",
      "--profile                          Profile build execution time and generates a report in the <build_dir>/reports/profile directory.\n",
      "--project-cache-dir                Specify the project-specific cache directory. Defaults to .gradle in the root project directory.\n",
      "-q, --quiet                        Log errors only.\n",
      "--refresh-dependencies             Refresh the state of dependencies.\n",
      "--refresh-keys                     Refresh the public keys used for dependency verification.\n",
      "--rerun-tasks                      Ignore previously cached task results.\n",
      "-S, --full-stacktrace              Print out the full (very verbose) stacktrace for all exceptions.\n",
      "-s, --stacktrace                   Print out the stacktrace for all exceptions.\n",
      "--scan                             Creates a build scan. Gradle will emit a warning if the build scan plugin has not been applied. (https://gradle.com/build-scans)\n",
      "--status                           Shows status of running and recently stopped Gradle daemon(s).\n",
      "--stop                             Stops the Gradle daemon if it is running.\n",
      "-t, --continuous                   Enables continuous build. Gradle does not exit and will re-execute tasks when task file inputs change.\n",
      "--update-locks                     Perform a partial update of the dependency lock, letting passed in module notations change version. [incubating]\n",
      "-v, --version                      Print version info.\n",
      "-w, --warn                         Set log level to warn.\n",
      "--warning-mode                     Specifies which mode of warnings to generate. Values are 'all', 'fail', 'summary'(default) or 'none'\n",
      "--watch-fs                         Enables watching the file system for changes, allowing data about the file system to be re-used for the next build.\n",
      "--write-locks                      Persists dependency resolution for locked configurations, ignoring existing locking information if it exists\n",
      "-x, --exclude-task                 Specify a task to be excluded from execution.\n",
      "\n"
     ]
    }
   ],
   "source": [
    "gradle --help"
   ]
  },
  {
   "cell_type": "markdown",
   "metadata": {},
   "source": [
    "* El siguiente comando levantará un *daemon* desplegará las tareas de construcción de binarios por defecto. "
   ]
  },
  {
   "cell_type": "code",
   "execution_count": 21,
   "metadata": {},
   "outputs": [
    {
     "name": "stdout",
     "output_type": "stream",
     "text": [
      "Starting a Gradle Daemon (subsequent builds will be faster)\n",
      "\n",
      "FAILURE: Build failed with an exception.\n",
      "\n",
      "* What went wrong:\n",
      "Directory '/opt/oi/qtop-tdd-spring' does not contain a Gradle build.\n",
      "\n",
      "A Gradle build should contain a 'settings.gradle' or 'settings.gradle.kts' file in its root directory. It may also contain a 'build.gradle' or 'build.gradle.kts' file.\n",
      "\n",
      "To create a new Gradle build in this directory run 'gradle init'\n",
      "\n",
      "For more detail on the 'init' task see https://docs.gradle.org/7.3.3/userguide/build_init_plugin.html\n",
      "\n",
      "For more detail on creating a Gradle build see https://docs.gradle.org/7.3.3/userguide/tutorial_using_tasks.html\n",
      "\n",
      "* Try:\n",
      "> Run gradle init to create a new Gradle build in this directory.\n",
      "> Run with --stacktrace option to get the stack trace.\n",
      "> Run with --info or --debug option to get more log output.\n",
      "\n",
      "* Get more help at https://help.gradle.org\n",
      "\n",
      "BUILD FAILED in 4s\n"
     ]
    },
    {
     "ename": "",
     "evalue": "1",
     "output_type": "error",
     "traceback": []
    }
   ],
   "source": [
    "gradle tasks"
   ]
  },
  {
   "cell_type": "markdown",
   "metadata": {},
   "source": [
    "## Los daemon de *Gradle*.\n",
    "\n",
    "*Gradle* es capaz de levantar *daemons*, los cuales realizarán la construcción de binarios de un proyecto en particular. \n",
    "\n",
    "Es posible tener en ejecución varios daemons de forma paralela.\n",
    "\n",
    "La documentación de los daemons de *Gradel* puede ser consultada desde:\n",
    "\n",
    "https://docs.gradle.org/current/userguide/gradle_daemon.html"
   ]
  },
  {
   "cell_type": "markdown",
   "metadata": {},
   "source": [
    "**Ejemplos:**"
   ]
  },
  {
   "cell_type": "markdown",
   "metadata": {},
   "source": [
    "* El siguiente comando deplegará el estado de todos los daemos activos de un usuario."
   ]
  },
  {
   "cell_type": "code",
   "execution_count": 22,
   "metadata": {},
   "outputs": [
    {
     "name": "stdout",
     "output_type": "stream",
     "text": [
      "   PID STATUS   INFO\n",
      "  4230 IDLE     7.3.3\n",
      "\n",
      "Only Daemons for the current Gradle version are displayed. See https://docs.gradle.org/7.3.3/userguide/gradle_daemon.html#sec:status\n"
     ]
    }
   ],
   "source": [
    "gradle --status"
   ]
  },
  {
   "cell_type": "markdown",
   "metadata": {},
   "source": [
    "* El siguiente comando detendrá al *daemon* que ya se encuentra en ejecución."
   ]
  },
  {
   "cell_type": "code",
   "execution_count": 23,
   "metadata": {},
   "outputs": [
    {
     "name": "stdout",
     "output_type": "stream",
     "text": [
      "Stopping Daemon(s)\n",
      "1 Daemon stopped\n"
     ]
    }
   ],
   "source": [
    "gradle --stop"
   ]
  },
  {
   "cell_type": "code",
   "execution_count": 24,
   "metadata": {},
   "outputs": [
    {
     "name": "stdout",
     "output_type": "stream",
     "text": [
      "No Gradle daemons are running.\n",
      "   PID STATUS   INFO\n",
      "  4230 STOPPED  (stop command received)\n",
      "\n",
      "Only Daemons for the current Gradle version are displayed. See https://docs.gradle.org/7.3.3/userguide/gradle_daemon.html#sec:status\n"
     ]
    }
   ],
   "source": [
    "gradle --status"
   ]
  },
  {
   "cell_type": "markdown",
   "metadata": {},
   "source": [
    "## El archivo ```gradle.build```.\n",
    "\n",
    "El archivo ```gradle.build``` es un script escrito en *Groovy* o *Kotiln*, el cual contiene el código de construcción de uno o varios proyectos y tareas. Es el documento básico para la ejecución de las diversas funcionalidades de *Gradle*."
   ]
  },
  {
   "cell_type": "markdown",
   "metadata": {},
   "source": [
    "## El *wrapper* de *Gradle*.\n",
    "\n",
    "El empaquetador (*wrapper*) es un script que permite descargar es instalar gradle y otros componentes, con la finalidad de facilitar la costrucciónd e binarios desde un repositorio.\n",
    "\n",
    "El script que ejecuta estas tareas es ```gradlew```.\n",
    "\n",
    "La documentación del *wrapper* puede ser consultada desde:\n",
    "\n",
    "https://docs.gradle.org/current/userguide/gradle_wrapper.html"
   ]
  },
  {
   "cell_type": "markdown",
   "metadata": {},
   "source": [
    "## Configuración de los entornos.\n",
    "\n",
    "*Gradle* cuenta con diversos recursos para configurar la construcción de binarios.\n",
    "\n",
    "La documentación correspondiente puede ser consultada desde:\n",
    "\n",
    "https://docs.gradle.org/current/userguide/build_environment.html"
   ]
  },
  {
   "cell_type": "markdown",
   "metadata": {},
   "source": [
    "## Componentes.\n",
    "\n",
    "Todo el sistema de automatización y construcción de binarios de *Gradle* está conformado por:\n",
    "\n",
    "* Proyectos.\n",
    "* Tareas (tasks).\n",
    "* Plugins."
   ]
  },
  {
   "cell_type": "markdown",
   "metadata": {},
   "source": [
    "### Los proyectos de *Gradle*.\n",
    "\n",
    "Un proyecto es un conjunto de tareas que da por resultado uno o varios \"artefactos\"."
   ]
  },
  {
   "cell_type": "markdown",
   "metadata": {},
   "source": [
    "### Las tareas (tasks) de *Gradle*.\n",
    "\n",
    "Una tarea es una pieza de código que realiza una acción específica en función de ciertas condiciones."
   ]
  },
  {
   "cell_type": "markdown",
   "metadata": {},
   "source": [
    "### Los *plugins* de *Gradle*.\n",
    "\n",
    "Un *plugin* es un script que extiende las funcionalidades de *Gradle*.\n",
    "\n",
    "La referencia de *plugins* puede ser consultada desde: \n",
    "\n",
    "https://docs.gradle.org/current/userguide/plugins.html"
   ]
  },
  {
   "cell_type": "markdown",
   "metadata": {},
   "source": [
    "<p style=\"text-align: center\"><a rel=\"license\" href=\"http://creativecommons.org/licenses/by/4.0/\"><img alt=\"Licencia Creative Commons\" style=\"border-width:0\" src=\"https://i.creativecommons.org/l/by/4.0/80x15.png\" /></a><br />Esta obra está bajo una <a rel=\"license\" href=\"http://creativecommons.org/licenses/by/4.0/\">Licencia Creative Commons Atribución 4.0 Internacional</a>.</p>\n",
    "<p style=\"text-align: center\">&copy; José Luis Chiquete Valdivieso. 2020.</p>"
   ]
  }
 ],
 "metadata": {
  "kernelspec": {
   "display_name": "Bash",
   "language": "bash",
   "name": "bash"
  },
  "language_info": {
   "codemirror_mode": "shell",
   "file_extension": ".sh",
   "mimetype": "text/x-sh",
   "name": "bash"
  }
 },
 "nbformat": 4,
 "nbformat_minor": 2
}
