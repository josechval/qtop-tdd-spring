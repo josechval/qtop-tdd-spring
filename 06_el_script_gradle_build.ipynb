{
 "cells": [
  {
   "cell_type": "markdown",
   "metadata": {},
   "source": [
    "# El script  ```gradle.build```.\n",
    "\n",
    "\n",
    "Los componentes básicos de un script de *Gradle* (como es el caso de ```gradle.build```) son las tareas.\n",
    "\n",
    "Los scrpits de Gradle pueden ser escritos ya sea en [*Groovy*](http://www.groovy-lang.org/) o más recientemente en [*Kotlin*](https://kotlinlang.org/). \n",
    "\n",
    "Ambos lenguajes están basados en la *JVM* y permiten crear código interpretado de sintaxis simple.\n",
    "\n",
    "En el caso de los scripts escirtos en *Kotlin* es necesario añádir la extensión ```.kts```, por lo que el script principal de gradle sería ```build.gradle.kts```.\n",
    "\n",
    "**Nota:** Todos los scripts de este curso estarán escritos en *Groovy*. "
   ]
  },
  {
   "cell_type": "markdown",
   "metadata": {},
   "source": [
    "### Los lenguajes de dominio específico de *Gradle*.\n",
    "\n",
    "*Gradle* ha extendido la sintaxis básica de *Groovy* y de *Kotlin* con al finalidad de crear un lenguaje que le permita a los scripts realizar operaciones muy específicas. A estos lenguajes modificados se les conoce como lenguajes de dominio específico o *DSL* por sus siglas en inglés.\n",
    "\n",
    "La documentación de los co|mponentes del *DSL* de *Gradle* pueden ser consultados en:\n",
    "\n",
    "https://docs.gradle.org/current/dsl/index.html"
   ]
  },
  {
   "cell_type": "markdown",
   "metadata": {},
   "source": [
    "## Introducción a las sintaxis de tareas.\n",
    "\n",
    "### Repositorio de trabajo.\n",
    "\n",
    "Para este capítulo se utilizarán los scripts localizados en el repositorio:\n",
    "\n",
    "https://github.com/Cloudevel/cdpx-gradle/\n",
    "\n",
    "Los ejemplos de código en dicho repositorio están basados en el tutorial localizado en:\n",
    "\n",
    "https://docs.gradle.org/current/userguide/tutorial_using_tasks.html"
   ]
  },
  {
   "cell_type": "markdown",
   "metadata": {},
   "source": [
    "## Bloques de un script ```build.gradle```.\n",
    "\n",
    "\n",
    "Además de las tareas, es posible definir ciertas característicias y componentes que utilizará el script mediante bloques.\n",
    "\n",
    "Los bloques de *Gradle* pueden ser consultados desde:\n",
    "\n",
    "https://docs.gradle.org/current/dsl/index.html"
   ]
  },
  {
   "cell_type": "markdown",
   "metadata": {},
   "source": [
    "<p style=\"text-align: center\"><a rel=\"license\" href=\"http://creativecommons.org/licenses/by/4.0/\"><img alt=\"Licencia Creative Commons\" style=\"border-width:0\" src=\"https://i.creativecommons.org/l/by/4.0/80x15.png\" /></a><br />Esta obra está bajo una <a rel=\"license\" href=\"http://creativecommons.org/licenses/by/4.0/\">Licencia Creative Commons Atribución 4.0 Internacional</a>.</p>\n",
    "<p style=\"text-align: center\">&copy; José Luis Chiquete Valdivieso. 2020.</p>"
   ]
  }
 ],
 "metadata": {
  "kernelspec": {
   "display_name": "Bash",
   "language": "bash",
   "name": "bash"
  },
  "language_info": {
   "codemirror_mode": "shell",
   "file_extension": ".sh",
   "mimetype": "text/x-sh",
   "name": "bash"
  }
 },
 "nbformat": 4,
 "nbformat_minor": 2
}
