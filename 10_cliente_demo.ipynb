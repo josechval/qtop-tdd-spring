{
 "cells": [
  {
   "cell_type": "code",
   "execution_count": null,
   "id": "8174c393",
   "metadata": {},
   "outputs": [],
   "source": [
    "!pip install requests"
   ]
  },
  {
   "cell_type": "code",
   "execution_count": null,
   "id": "9e2150de",
   "metadata": {},
   "outputs": [],
   "source": [
    "from requests import get, post, delete"
   ]
  },
  {
   "cell_type": "code",
   "execution_count": null,
   "id": "af8e5c9e",
   "metadata": {
    "scrolled": true
   },
   "outputs": [],
   "source": [
    "with get('http://localhost:8080/products') as r:\n",
    "    print(r.json())"
   ]
  },
  {
   "cell_type": "code",
   "execution_count": null,
   "id": "782c0137",
   "metadata": {},
   "outputs": [],
   "source": [
    "data = {'id': 4,'name':'queso'}"
   ]
  },
  {
   "cell_type": "code",
   "execution_count": null,
   "id": "21f15d05",
   "metadata": {},
   "outputs": [],
   "source": [
    "with post('http://localhost:8080/products/', json=data) as r:\n",
    "    print(r.content)"
   ]
  },
  {
   "cell_type": "code",
   "execution_count": null,
   "id": "692fd204",
   "metadata": {},
   "outputs": [],
   "source": [
    "with delete('http://localhost:8080/products/1') as r:\n",
    "    print(r.content)"
   ]
  },
  {
   "cell_type": "code",
   "execution_count": null,
   "id": "b4116926",
   "metadata": {},
   "outputs": [],
   "source": []
  }
 ],
 "metadata": {
  "kernelspec": {
   "display_name": "Python 3 (ipykernel)",
   "language": "python",
   "name": "python3"
  },
  "language_info": {
   "codemirror_mode": {
    "name": "ipython",
    "version": 3
   },
   "file_extension": ".py",
   "mimetype": "text/x-python",
   "name": "python",
   "nbconvert_exporter": "python",
   "pygments_lexer": "ipython3",
   "version": "3.9.2"
  }
 },
 "nbformat": 4,
 "nbformat_minor": 5
}
