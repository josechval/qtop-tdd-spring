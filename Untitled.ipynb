{
 "cells": [
  {
   "cell_type": "code",
   "execution_count": 1,
   "id": "8174c393",
   "metadata": {},
   "outputs": [
    {
     "name": "stdout",
     "output_type": "stream",
     "text": [
      "Requirement already satisfied: requests in /home/oi/pythonista/lib/python3.9/site-packages (2.27.1)\n",
      "Requirement already satisfied: certifi>=2017.4.17 in /home/oi/pythonista/lib/python3.9/site-packages (from requests) (2021.10.8)\n",
      "Requirement already satisfied: urllib3<1.27,>=1.21.1 in /home/oi/pythonista/lib/python3.9/site-packages (from requests) (1.26.8)\n",
      "Requirement already satisfied: charset-normalizer~=2.0.0 in /home/oi/pythonista/lib/python3.9/site-packages (from requests) (2.0.10)\n",
      "Requirement already satisfied: idna<4,>=2.5 in /home/oi/pythonista/lib/python3.9/site-packages (from requests) (3.3)\n",
      "\u001b[33mWARNING: You are using pip version 21.3.1; however, version 22.0.3 is available.\n",
      "You should consider upgrading via the '/home/oi/pythonista/bin/python -m pip install --upgrade pip' command.\u001b[0m\n"
     ]
    }
   ],
   "source": [
    "!pip install requests"
   ]
  },
  {
   "cell_type": "code",
   "execution_count": 13,
   "id": "9e2150de",
   "metadata": {},
   "outputs": [],
   "source": [
    "from requests import get, post, delete"
   ]
  },
  {
   "cell_type": "code",
   "execution_count": 15,
   "id": "af8e5c9e",
   "metadata": {
    "scrolled": true
   },
   "outputs": [
    {
     "name": "stdout",
     "output_type": "stream",
     "text": [
      "[{'id': '2', 'name': 'Pan de caja'}, {'id': '3', 'name': 'tocino'}, {'id': '4', 'name': 'queso'}]\n"
     ]
    }
   ],
   "source": [
    "with get('http://localhost:8080/products') as r:\n",
    "    print(r.json())"
   ]
  },
  {
   "cell_type": "code",
   "execution_count": 10,
   "id": "782c0137",
   "metadata": {},
   "outputs": [],
   "source": [
    "data = {'id': 4,'name':'queso'}"
   ]
  },
  {
   "cell_type": "code",
   "execution_count": 11,
   "id": "21f15d05",
   "metadata": {},
   "outputs": [
    {
     "name": "stdout",
     "output_type": "stream",
     "text": [
      "b'Producto creado.'\n"
     ]
    }
   ],
   "source": [
    "with post('http://localhost:8080/products/', json=data) as r:\n",
    "    print(r.content)"
   ]
  },
  {
   "cell_type": "code",
   "execution_count": 14,
   "id": "692fd204",
   "metadata": {},
   "outputs": [
    {
     "name": "stdout",
     "output_type": "stream",
     "text": [
      "b'Producto eliminado.'\n"
     ]
    }
   ],
   "source": [
    "with delete('http://localhost:8080/products/1') as r:\n",
    "    print(r.content)"
   ]
  },
  {
   "cell_type": "code",
   "execution_count": null,
   "id": "b4116926",
   "metadata": {},
   "outputs": [],
   "source": []
  }
 ],
 "metadata": {
  "kernelspec": {
   "display_name": "Python 3 (ipykernel)",
   "language": "python",
   "name": "python3"
  },
  "language_info": {
   "codemirror_mode": {
    "name": "ipython",
    "version": 3
   },
   "file_extension": ".py",
   "mimetype": "text/x-python",
   "name": "python",
   "nbconvert_exporter": "python",
   "pygments_lexer": "ipython3",
   "version": "3.9.2"
  }
 },
 "nbformat": 4,
 "nbformat_minor": 5
}
